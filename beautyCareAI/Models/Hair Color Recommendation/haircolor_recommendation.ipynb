{
  "nbformat": 4,
  "nbformat_minor": 0,
  "metadata": {
    "colab": {
      "provenance": []
    },
    "kernelspec": {
      "name": "python3",
      "display_name": "Python 3"
    },
    "language_info": {
      "name": "python"
    }
  },
  "cells": [
    {
      "cell_type": "code",
      "source": [
        "# Mount Google Drive to access dataset\n",
        "from google.colab import drive\n",
        "drive.mount('/content/drive')\n",
        "\n",
        "file_path = '/content/drive/MyDrive/haircolor_recommendations_dataset.csv'"
      ],
      "metadata": {
        "colab": {
          "base_uri": "https://localhost:8080/"
        },
        "id": "tmygQ3x9DF-M",
        "outputId": "e066dddf-526e-4bab-cd70-7ab360d44153"
      },
      "execution_count": 4,
      "outputs": [
        {
          "output_type": "stream",
          "name": "stdout",
          "text": [
            "Drive already mounted at /content/drive; to attempt to forcibly remount, call drive.mount(\"/content/drive\", force_remount=True).\n"
          ]
        }
      ]
    },
    {
      "cell_type": "code",
      "source": [
        "import pandas as pd\n",
        "import joblib\n",
        "import matplotlib.pyplot as plt\n",
        "from sklearn.model_selection import train_test_split, StratifiedKFold\n",
        "from sklearn.preprocessing import LabelEncoder, StandardScaler\n",
        "import xgboost as xgb\n",
        "from sklearn.metrics import accuracy_score, confusion_matrix, classification_report\n",
        "\n",
        "# Load dataset\n",
        "data = pd.read_csv(file_path)\n",
        "print(\"Dataset Head:\")\n",
        "print(data.head())"
      ],
      "metadata": {
        "colab": {
          "base_uri": "https://localhost:8080/"
        },
        "id": "pumwnMP3JBlI",
        "outputId": "113e747c-bd97-4e85-80df-bc9d0bf7d635"
      },
      "execution_count": 7,
      "outputs": [
        {
          "output_type": "stream",
          "name": "stdout",
          "text": [
            "Dataset Head:\n",
            "  eye_color  gender hair_type occasion face_shape skin_color  \\\n",
            "0     Black    Male      Wavy   Casual       Oval     Medium   \n",
            "1     Green    Male     Kinky    Party     Square       Dark   \n",
            "2      Gray    Male     Curly   Casual      Round        Tan   \n",
            "3     Green  Female      Wavy    Party      Heart     Medium   \n",
            "4     Green  Female     Curly   Formal      Round        Tan   \n",
            "\n",
            "  hair_color_recommendation  \n",
            "0                Soft Brown  \n",
            "1                Dark Brown  \n",
            "2                Dark Brown  \n",
            "3              Light Blonde  \n",
            "4                Ash Blonde  \n"
          ]
        }
      ]
    },
    {
      "cell_type": "code",
      "execution_count": 8,
      "metadata": {
        "colab": {
          "base_uri": "https://localhost:8080/",
          "height": 1000
        },
        "id": "QVn4T2LlC5Uv",
        "outputId": "645d8bee-ea44-4ae1-9d0e-a11e436f76d7"
      },
      "outputs": [
        {
          "output_type": "stream",
          "name": "stderr",
          "text": [
            "/usr/local/lib/python3.11/dist-packages/xgboost/core.py:158: UserWarning: [03:53:32] WARNING: /workspace/src/learner.cc:740: \n",
            "Parameters: { \"n_estimators\" } are not used.\n",
            "\n",
            "  warnings.warn(smsg, UserWarning)\n"
          ]
        },
        {
          "output_type": "stream",
          "name": "stdout",
          "text": [
            "Optimized Model Accuracy: 100.00%\n",
            "\n",
            "Confusion Matrix:\n",
            "[[ 88545      0      0      0      0      0      0      0      0      0\n",
            "       0      0      0      0      0]\n",
            " [     0   3122      0      0      0      0      0      0      0      0\n",
            "       0      0      0      0      0]\n",
            " [     0      0  49461      0      0      0      0      0      0      0\n",
            "       0      0      0      0      0]\n",
            " [     0      0      0 207258      0      0      0      0      0      0\n",
            "       0      0      0      0      0]\n",
            " [     0      0      0      0   5137      0      0      0      0      0\n",
            "       0      0      0      0      0]\n",
            " [     0      0      0      0      0  24649      0      0      0      0\n",
            "       0      0      0      0      0]\n",
            " [     0      0      0      0      0      0  16498      0      0      0\n",
            "       0      0      0      0      0]\n",
            " [     0      0      0      0      0      0      0 171555      0      0\n",
            "       0      0      0      0      0]\n",
            " [     0      0      0      0      0      0      0      0  16440      0\n",
            "       0      0      0      0      0]\n",
            " [     0      0      0      0      0      0      0      0      0   5202\n",
            "       0      0      0      0      0]\n",
            " [     0      0      0      0      0      0      0      0      0      0\n",
            "   12224      0      0      0      0]\n",
            " [     0      0      0      0      0      0      0      0      0      0\n",
            "       0 241936      0      0      0]\n",
            " [     0      0      0      0      0      0      0      0      0      0\n",
            "       0      0  10286      0      0]\n",
            " [     0      0      0      0      0      0      0      0      0      0\n",
            "       0      0      0  76723      0]\n",
            " [     0      0      0      0      0      0      0      0      0      0\n",
            "       0      0      0      0  57864]]\n",
            "\n",
            "Classification Report:\n",
            "              precision    recall  f1-score   support\n",
            "\n",
            "           0       1.00      1.00      1.00     88545\n",
            "           1       1.00      1.00      1.00      3122\n",
            "           2       1.00      1.00      1.00     49461\n",
            "           3       1.00      1.00      1.00    207258\n",
            "           4       1.00      1.00      1.00      5137\n",
            "           5       1.00      1.00      1.00     24649\n",
            "           6       1.00      1.00      1.00     16498\n",
            "           7       1.00      1.00      1.00    171555\n",
            "           8       1.00      1.00      1.00     16440\n",
            "           9       1.00      1.00      1.00      5202\n",
            "          10       1.00      1.00      1.00     12224\n",
            "          11       1.00      1.00      1.00    241936\n",
            "          12       1.00      1.00      1.00     10286\n",
            "          13       1.00      1.00      1.00     76723\n",
            "          14       1.00      1.00      1.00     57864\n",
            "\n",
            "    accuracy                           1.00    986900\n",
            "   macro avg       1.00      1.00      1.00    986900\n",
            "weighted avg       1.00      1.00      1.00    986900\n",
            "\n"
          ]
        },
        {
          "output_type": "display_data",
          "data": {
            "text/plain": [
              "<Figure size 640x480 with 1 Axes>"
            ],
            "image/png": "[encoded data removed]"
          },
          "metadata": {}
        }
      ],
      "source": [
        "import pandas as pd\n",
        "import numpy as np\n",
        "import xgboost as xgb\n",
        "import joblib\n",
        "import matplotlib.pyplot as plt\n",
        "from sklearn.preprocessing import LabelEncoder, StandardScaler\n",
        "from sklearn.metrics import accuracy_score, confusion_matrix, classification_report\n",
        "\n",
        "\n",
        "# Encode categorical features\n",
        "label_encoders = {}\n",
        "categorical_columns = [\"eye_color\", \"gender\", \"hair_type\", \"occasion\", \"face_shape\", \"skin_color\", \"hair_color_recommendation\"]\n",
        "\n",
        "for column in categorical_columns:\n",
        "    le = LabelEncoder()\n",
        "    data[column] = le.fit_transform(data[column])\n",
        "    label_encoders[column] = le  # Store encoders for later use\n",
        "\n",
        "# Feature Engineering: Adding interaction features\n",
        "data['Skin_Hair_Type'] = data['skin_color'].astype(str) + \"_\" + data['hair_type'].astype(str)\n",
        "data['Face_Occupation'] = data['face_shape'].astype(str) + \"_\" + data['occasion'].astype(str)\n",
        "\n",
        "# Encode interaction features\n",
        "for col in ['Skin_Hair_Type', 'Face_Occupation']:\n",
        "    le = LabelEncoder()\n",
        "    data[col] = le.fit_transform(data[col])\n",
        "    label_encoders[col] = le  # Store for later use\n",
        "\n",
        "# Split into features (X) and target (y)\n",
        "X = data.drop(columns=[\"hair_color_recommendation\"])\n",
        "y = data[\"hair_color_recommendation\"]\n",
        "\n",
        "# Feature Scaling\n",
        "scaler = StandardScaler()\n",
        "X_scaled = scaler.fit_transform(X)\n",
        "\n",
        "# Convert data to XGBoost format\n",
        "dtrain = xgb.DMatrix(X_scaled, label=y)\n",
        "\n",
        "# XGBoost Model Parameters\n",
        "params = {\n",
        "    \"objective\": \"multi:softmax\",\n",
        "    \"num_class\": len(data[\"hair_color_recommendation\"].unique()),\n",
        "    \"max_depth\": 10,\n",
        "    \"learning_rate\": 0.03,\n",
        "    \"n_estimators\": 500,\n",
        "    \"subsample\": 0.9,\n",
        "    \"colsample_bytree\": 0.9,\n",
        "    \"reg_lambda\": 1.5,\n",
        "    \"reg_alpha\": 0.5,\n",
        "    \"min_child_weight\": 3,\n",
        "    \"gamma\": 0.1,\n",
        "    \"eval_metric\": 'mlogloss',\n",
        "}\n",
        "\n",
        "# Train the XGBoost model with early stopping\n",
        "bst = xgb.train(\n",
        "    params,\n",
        "    dtrain,\n",
        "    num_boost_round=500,\n",
        "    early_stopping_rounds=50,\n",
        "    evals=[(dtrain, 'train')],\n",
        "    verbose_eval=False\n",
        ")\n",
        "\n",
        "# Predict on training set\n",
        "dtest = xgb.DMatrix(X_scaled)\n",
        "y_pred = bst.predict(dtest)\n",
        "\n",
        "# Model Evaluation\n",
        "accuracy = accuracy_score(y, y_pred)\n",
        "conf_matrix = confusion_matrix(y, y_pred)\n",
        "class_report = classification_report(y, y_pred)\n",
        "\n",
        "print(f\"Optimized Model Accuracy: {accuracy * 100:.2f}%\")\n",
        "print(\"\\nConfusion Matrix:\")\n",
        "print(conf_matrix)\n",
        "print(\"\\nClassification Report:\")\n",
        "print(class_report)\n",
        "\n",
        "# Save Model, Encoders, and Scaler\n",
        "joblib.dump(bst, \"hair_color_model_xgb.pkl\")\n",
        "joblib.dump(label_encoders, \"label_encoders.pkl\")\n",
        "joblib.dump(scaler, \"scaler.pkl\")\n",
        "\n",
        "# Plot Feature Importance\n",
        "xgb.plot_importance(bst, importance_type='weight')\n",
        "plt.title(\"Feature Importance\")\n",
        "plt.show()\n"
      ]
    },
    {
      "cell_type": "code",
      "source": [
        "# Save Model, Encoders, and Scaler\n",
        "joblib.dump(bst, \"/content/drive/MyDrive/hair_color_model_xgb.pkl\")\n",
        "\n",
        "joblib.dump(label_encoders, \"/content/drive/MyDrive/label_encoders.pkl\")\n",
        "joblib.dump(scaler, \"/content/drive/MyDrive/scaler.pkl\")"
      ],
      "metadata": {
        "colab": {
          "base_uri": "https://localhost:8080/"
        },
        "id": "_biW3TZUpZxZ",
        "outputId": "12308c06-d2d1-4014-9234-9efd0e088356"
      },
      "execution_count": 12,
      "outputs": [
        {
          "output_type": "execute_result",
          "data": {
            "text/plain": [
              "['/content/drive/MyDrive/scaler.pkl']"
            ]
          },
          "metadata": {},
          "execution_count": 12
        }
      ]
    },
    {
      "cell_type": "code",
      "source": [
        "import pandas as pd\n",
        "import joblib\n",
        "import xgboost as xgb\n",
        "import numpy as np\n",
        "# Mount Google Drive to access dataset\n",
        "from google.colab import drive\n",
        "drive.mount('/content/drive')\n",
        "\n",
        "# Load the trained model, label encoders, and scaler\n",
        "model = joblib.load(\"/content/drive/MyDrive/hair_color_model_xgb.pkl\")\n",
        "label_encoders = joblib.load(\"/content/drive/MyDrive/label_encoders.pkl\")\n",
        "scaler = joblib.load(\"/content/drive/MyDrive/scaler.pkl\")\n",
        "\n",
        "# Define input test cases\n",
        "test_data = pd.DataFrame({\n",
        "    'eye_color': ['Black', 'Green', 'Blue', 'Hazel'],\n",
        "    'gender': ['Male', 'Female', 'Female', 'Male'],\n",
        "    'hair_type': ['Wavy', 'Straight', 'Curly', 'Kinky'],\n",
        "    'occasion': ['Casual', 'Party', 'Formal', 'Sport'],\n",
        "    'face_shape': ['Oval', 'Square', 'Heart', 'Round'],\n",
        "    'skin_color': ['Medium', 'Fair', 'Dark', 'Tan']\n",
        "})\n",
        "\n",
        "# Encode categorical features using saved label encoders\n",
        "for column in test_data.columns:\n",
        "    test_data[column] = label_encoders[column].transform(test_data[column])\n",
        "\n",
        "# Feature Engineering: Adding interaction features\n",
        "test_data['Skin_Hair_Type'] = test_data['skin_color'].astype(str) + \"_\" + test_data['hair_type'].astype(str)\n",
        "test_data['Face_Occupation'] = test_data['face_shape'].astype(str) + \"_\" + test_data['occasion'].astype(str)\n",
        "\n",
        "# Encode the interaction features\n",
        "for col in ['Skin_Hair_Type', 'Face_Occupation']:\n",
        "    test_data[col] = label_encoders[col].transform(test_data[col])\n",
        "\n",
        "# Scale the test data\n",
        "X_test_scaled = scaler.transform(test_data)\n",
        "\n",
        "# Convert to XGBoost format\n",
        "dtest = xgb.DMatrix(X_test_scaled)\n",
        "\n",
        "# Make predictions\n",
        "y_pred = model.predict(dtest)\n",
        "\n",
        "# Decode the predicted hair color recommendations\n",
        "predicted_classes = label_encoders['hair_color_recommendation'].inverse_transform(y_pred.astype(int))\n",
        "\n",
        "# Display the results\n",
        "for i, predicted_class in enumerate(predicted_classes):\n",
        "    print(f\"Test Case {i + 1}:\")\n",
        "    print(f\"Predicted Hair Color Recommendation: {predicted_class}\")\n",
        "    print(\"-\" * 50)"
      ],
      "metadata": {
        "colab": {
          "base_uri": "https://localhost:8080/"
        },
        "id": "hq6HeA6ZbwxQ",
        "outputId": "6fe72f38-bd57-4154-82c4-668dd7eb1b4d"
      },
      "execution_count": 14,
      "outputs": [
        {
          "output_type": "stream",
          "name": "stdout",
          "text": [
            "Drive already mounted at /content/drive; to attempt to forcibly remount, call drive.mount(\"/content/drive\", force_remount=True).\n",
            "Test Case 1:\n",
            "Predicted Hair Color Recommendation: Soft Brown\n",
            "--------------------------------------------------\n",
            "Test Case 2:\n",
            "Predicted Hair Color Recommendation: Platinum Blonde\n",
            "--------------------------------------------------\n",
            "Test Case 3:\n",
            "Predicted Hair Color Recommendation: Ash Blonde\n",
            "--------------------------------------------------\n",
            "Test Case 4:\n",
            "Predicted Hair Color Recommendation: Light Blonde\n",
            "--------------------------------------------------\n"
          ]
        }
      ]
    }
  ]
}