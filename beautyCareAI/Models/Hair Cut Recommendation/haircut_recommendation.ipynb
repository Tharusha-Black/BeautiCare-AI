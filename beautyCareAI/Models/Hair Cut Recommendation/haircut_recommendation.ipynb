{
  "nbformat": 4,
  "nbformat_minor": 0,
  "metadata": {
    "colab": {
      "provenance": []
    },
    "kernelspec": {
      "name": "python3",
      "display_name": "Python 3"
    },
    "language_info": {
      "name": "python"
    }
  },
  "cells": [
    {
      "cell_type": "code",
      "source": [
        "import pandas as pd\n",
        "from imblearn.over_sampling import SMOTE\n",
        "from sklearn.model_selection import train_test_split\n",
        "from sklearn.metrics import accuracy_score, classification_report, confusion_matrix\n",
        "import xgboost as xgb\n",
        "import matplotlib.pyplot as plt\n",
        "import seaborn as sns\n",
        "import joblib  # For saving the model and encoders"
      ],
      "metadata": {
        "id": "5mL-_TfX-iU-"
      },
      "execution_count": 1,
      "outputs": []
    },
    {
      "cell_type": "code",
      "source": [
        "# Load the dataset (replace with your actual file path)\n",
        "# For example: df = pd.read_csv('/content/drive/MyDrive/haircut_recommendations_dataset1.csv')\n",
        "\n",
        "from google.colab import drive\n",
        "drive.mount('/content/drive')\n",
        "\n",
        "\n",
        "df = pd.read_csv('/content/drive/MyDrive/BeautiCareAi/haircut_recommendation/haircut_recommendations.csv')\n",
        "\n",
        "# Show basic information about the dataset\n",
        "print(\"Dataset loaded successfully. Shape of the dataset:\", df.shape)\n",
        "print(df.head())\n"
      ],
      "metadata": {
        "colab": {
          "base_uri": "https://localhost:8080/"
        },
        "id": "hfER8RsW-ouq",
        "outputId": "2fdb39f2-b131-427a-f1c2-9f14d02af0b4"
      },
      "execution_count": 23,
      "outputs": [
        {
          "output_type": "stream",
          "name": "stdout",
          "text": [
            "Drive already mounted at /content/drive; to attempt to forcibly remount, call drive.mount(\"/content/drive\", force_remount=True).\n",
            "Dataset loaded successfully. Shape of the dataset: (108329, 8)\n",
            "   Gender Hair Type Face Shape Look Type Occasion  Haircut ID Haircut Name  \\\n",
            "0  Female  Straight      Round   Natural   Casual           7  Messy Waves   \n",
            "1  Female  Straight      Round   Natural   Casual           7  Messy Waves   \n",
            "2  Female  Straight      Round   Natural   Casual           7  Messy Waves   \n",
            "3  Female  Straight      Round   Natural   Casual           7  Messy Waves   \n",
            "4  Female  Straight      Round   Natural   Casual           7  Messy Waves   \n",
            "\n",
            "                              Description  \n",
            "0  Wavy hair with a messy and casual vibe  \n",
            "1  Wavy hair with a messy and casual vibe  \n",
            "2  Wavy hair with a messy and casual vibe  \n",
            "3  Wavy hair with a messy and casual vibe  \n",
            "4  Wavy hair with a messy and casual vibe  \n"
          ]
        }
      ]
    },
    {
      "cell_type": "code",
      "source": [
        "from sklearn.preprocessing import LabelEncoder\n",
        "\n",
        "# Drop the 'Description' column and define features (X) and target (y)\n",
        "df = df.drop(columns=[\"Description\",\"Haircut Name\"])\n",
        "X = df.drop(columns=[\"Haircut ID\"])  # Features\n",
        "y = df[\"Haircut ID\"]  # Target variable\n",
        "\n",
        "# Adjust the target labels to start from 0\n",
        "le_y = LabelEncoder()\n",
        "y = le_y.fit_transform(y)\n",
        "\n",
        "# Impute missing values for categorical variables\n",
        "from sklearn.impute import SimpleImputer\n",
        "imputer = SimpleImputer(strategy='most_frequent')\n",
        "X_imputed = pd.DataFrame(imputer.fit_transform(X), columns=X.columns)\n"
      ],
      "metadata": {
        "id": "eZFGiIn8-svH"
      },
      "execution_count": 24,
      "outputs": []
    },
    {
      "cell_type": "code",
      "source": [
        "\n",
        "label_encoders = {}\n",
        "for column in X_imputed.columns:\n",
        "    if X_imputed[column].dtype == 'object':  # Apply encoding only on object columns\n",
        "        le = LabelEncoder()\n",
        "        X_imputed[column] = le.fit_transform(X_imputed[column])\n",
        "        label_encoders[column] = le\n",
        "        print(f\"Encoded column: {column} with classes: {le.classes_}\")\n"
      ],
      "metadata": {
        "colab": {
          "base_uri": "https://localhost:8080/"
        },
        "id": "5cGzM_XY-wfi",
        "outputId": "27f5d000-44b3-40cb-f192-fc76fe32c875"
      },
      "execution_count": 25,
      "outputs": [
        {
          "output_type": "stream",
          "name": "stdout",
          "text": [
            "Encoded column: Gender with classes: ['Female' 'Male']\n",
            "Encoded column: Hair Type with classes: ['Curly' 'Straight']\n",
            "Encoded column: Face Shape with classes: ['Oval' 'Round' 'Square']\n",
            "Encoded column: Look Type with classes: ['Natural' 'Professional' 'Trendy']\n",
            "Encoded column: Occasion with classes: ['Casual' 'Formal' 'Party' 'Sport']\n"
          ]
        }
      ]
    },
    {
      "cell_type": "code",
      "source": [
        "smote = SMOTE(sampling_strategy='auto', random_state=42, k_neighbors=5)\n",
        "X_resampled, y_resampled = smote.fit_resample(X_imputed, y)\n"
      ],
      "metadata": {
        "id": "XmrdFetS-zPV"
      },
      "execution_count": 26,
      "outputs": []
    },
    {
      "cell_type": "code",
      "source": [
        "X_train, X_test, y_train, y_test = train_test_split(X_resampled, y_resampled, test_size=0.2, random_state=42)\n"
      ],
      "metadata": {
        "id": "PrqQ-CRa-7Oe"
      },
      "execution_count": 27,
      "outputs": []
    },
    {
      "cell_type": "code",
      "source": [
        "best_accuracy = 0\n",
        "best_params = {}\n",
        "\n",
        "param_grid = {\n",
        "    'n_estimators': [100, 200],\n",
        "    'max_depth': [3, 6, 10],\n",
        "    'learning_rate': [0.01, 0.1, 0.3],\n",
        "    'subsample': [0.7, 1],\n",
        "    'colsample_bytree': [0.7, 1]\n",
        "}\n",
        "\n",
        "# Loop through the parameter grid manually\n",
        "for n_estimators in param_grid['n_estimators']:\n",
        "    for max_depth in param_grid['max_depth']:\n",
        "        for learning_rate in param_grid['learning_rate']:\n",
        "            for subsample in param_grid['subsample']:\n",
        "                for colsample_bytree in param_grid['colsample_bytree']:\n",
        "                    print(f\"Training with n_estimators={n_estimators}, max_depth={max_depth}, learning_rate={learning_rate}, subsample={subsample}, colsample_bytree={colsample_bytree}\")\n",
        "\n",
        "                    # Initialize model with current parameters\n",
        "                    model = xgb.XGBClassifier(\n",
        "                        n_estimators=n_estimators,\n",
        "                        max_depth=max_depth,\n",
        "                        learning_rate=learning_rate,\n",
        "                        subsample=subsample,\n",
        "                        colsample_bytree=colsample_bytree,\n",
        "                        random_state=42\n",
        "                    )\n",
        "\n",
        "                    # Fit the model\n",
        "                    model.fit(X_train, y_train)\n",
        "\n",
        "                    # Predict the results\n",
        "                    y_pred = model.predict(X_test)\n",
        "\n",
        "                    # Calculate accuracy\n",
        "                    accuracy = accuracy_score(y_test, y_pred)\n",
        "                    print(f\"Accuracy: {accuracy:.4f}\")\n",
        "\n",
        "                    # Update the best parameters if current model is better\n",
        "                    if accuracy > best_accuracy:\n",
        "                        best_accuracy = accuracy\n",
        "                        best_params = {\n",
        "                            'n_estimators': n_estimators,\n",
        "                            'max_depth': max_depth,\n",
        "                            'learning_rate': learning_rate,\n",
        "                            'subsample': subsample,\n",
        "                            'colsample_bytree': colsample_bytree\n",
        "                        }\n",
        "\n",
        "# Output the best parameters\n",
        "print(\"Best Parameters Found:\")\n",
        "print(best_params)\n"
      ],
      "metadata": {
        "colab": {
          "base_uri": "https://localhost:8080/"
        },
        "id": "E2SS5QNF-8Jw",
        "outputId": "08ca58b9-2883-4d61-d7c9-18f1d179c684"
      },
      "execution_count": null,
      "outputs": [
        {
          "output_type": "stream",
          "name": "stdout",
          "text": [
            "Training with n_estimators=100, max_depth=3, learning_rate=0.01, subsample=0.7, colsample_bytree=0.7\n",
            "Accuracy: 0.3794\n",
            "Training with n_estimators=100, max_depth=3, learning_rate=0.01, subsample=0.7, colsample_bytree=1\n",
            "Accuracy: 0.3471\n",
            "Training with n_estimators=100, max_depth=3, learning_rate=0.01, subsample=1, colsample_bytree=0.7\n",
            "Accuracy: 0.3779\n",
            "Training with n_estimators=100, max_depth=3, learning_rate=0.01, subsample=1, colsample_bytree=1\n",
            "Accuracy: 0.3473\n",
            "Training with n_estimators=100, max_depth=3, learning_rate=0.1, subsample=0.7, colsample_bytree=0.7\n",
            "Accuracy: 0.4058\n",
            "Training with n_estimators=100, max_depth=3, learning_rate=0.1, subsample=0.7, colsample_bytree=1\n",
            "Accuracy: 0.4081\n",
            "Training with n_estimators=100, max_depth=3, learning_rate=0.1, subsample=1, colsample_bytree=0.7\n",
            "Accuracy: 0.4046\n",
            "Training with n_estimators=100, max_depth=3, learning_rate=0.1, subsample=1, colsample_bytree=1\n",
            "Accuracy: 0.4092\n",
            "Training with n_estimators=100, max_depth=3, learning_rate=0.3, subsample=0.7, colsample_bytree=0.7\n",
            "Accuracy: 0.4224\n",
            "Training with n_estimators=100, max_depth=3, learning_rate=0.3, subsample=0.7, colsample_bytree=1\n",
            "Accuracy: 0.4244\n",
            "Training with n_estimators=100, max_depth=3, learning_rate=0.3, subsample=1, colsample_bytree=0.7\n",
            "Accuracy: 0.4216\n",
            "Training with n_estimators=100, max_depth=3, learning_rate=0.3, subsample=1, colsample_bytree=1\n",
            "Accuracy: 0.4243\n",
            "Training with n_estimators=100, max_depth=6, learning_rate=0.01, subsample=0.7, colsample_bytree=0.7\n",
            "Accuracy: 0.4342\n",
            "Training with n_estimators=100, max_depth=6, learning_rate=0.01, subsample=0.7, colsample_bytree=1\n",
            "Accuracy: 0.4178\n",
            "Training with n_estimators=100, max_depth=6, learning_rate=0.01, subsample=1, colsample_bytree=0.7\n",
            "Accuracy: 0.4343\n",
            "Training with n_estimators=100, max_depth=6, learning_rate=0.01, subsample=1, colsample_bytree=1\n",
            "Accuracy: 0.4159\n",
            "Training with n_estimators=100, max_depth=6, learning_rate=0.1, subsample=0.7, colsample_bytree=0.7\n",
            "Accuracy: 0.4641\n",
            "Training with n_estimators=100, max_depth=6, learning_rate=0.1, subsample=0.7, colsample_bytree=1\n",
            "Accuracy: 0.4486\n",
            "Training with n_estimators=100, max_depth=6, learning_rate=0.1, subsample=1, colsample_bytree=0.7\n",
            "Accuracy: 0.4611\n",
            "Training with n_estimators=100, max_depth=6, learning_rate=0.1, subsample=1, colsample_bytree=1\n",
            "Accuracy: 0.4451\n",
            "Training with n_estimators=100, max_depth=6, learning_rate=0.3, subsample=0.7, colsample_bytree=0.7\n",
            "Accuracy: 0.5111\n",
            "Training with n_estimators=100, max_depth=6, learning_rate=0.3, subsample=0.7, colsample_bytree=1\n",
            "Accuracy: 0.5360\n",
            "Training with n_estimators=100, max_depth=6, learning_rate=0.3, subsample=1, colsample_bytree=0.7\n",
            "Accuracy: 0.4976\n",
            "Training with n_estimators=100, max_depth=6, learning_rate=0.3, subsample=1, colsample_bytree=1\n",
            "Accuracy: 0.5268\n",
            "Training with n_estimators=100, max_depth=10, learning_rate=0.01, subsample=0.7, colsample_bytree=0.7\n",
            "Accuracy: 0.5425\n",
            "Training with n_estimators=100, max_depth=10, learning_rate=0.01, subsample=0.7, colsample_bytree=1\n",
            "Accuracy: 0.5180\n",
            "Training with n_estimators=100, max_depth=10, learning_rate=0.01, subsample=1, colsample_bytree=0.7\n",
            "Accuracy: 0.5414\n",
            "Training with n_estimators=100, max_depth=10, learning_rate=0.01, subsample=1, colsample_bytree=1\n",
            "Accuracy: 0.5043\n",
            "Training with n_estimators=100, max_depth=10, learning_rate=0.1, subsample=0.7, colsample_bytree=0.7\n",
            "Accuracy: 0.6391\n",
            "Training with n_estimators=100, max_depth=10, learning_rate=0.1, subsample=0.7, colsample_bytree=1\n",
            "Accuracy: 0.6791\n",
            "Training with n_estimators=100, max_depth=10, learning_rate=0.1, subsample=1, colsample_bytree=0.7\n",
            "Accuracy: 0.6384\n",
            "Training with n_estimators=100, max_depth=10, learning_rate=0.1, subsample=1, colsample_bytree=1\n",
            "Accuracy: 0.6473\n",
            "Training with n_estimators=100, max_depth=10, learning_rate=0.3, subsample=0.7, colsample_bytree=0.7\n",
            "Accuracy: 0.7439\n",
            "Training with n_estimators=100, max_depth=10, learning_rate=0.3, subsample=0.7, colsample_bytree=1\n",
            "Accuracy: 0.8964\n",
            "Training with n_estimators=100, max_depth=10, learning_rate=0.3, subsample=1, colsample_bytree=0.7\n",
            "Accuracy: 0.7401\n",
            "Training with n_estimators=100, max_depth=10, learning_rate=0.3, subsample=1, colsample_bytree=1\n",
            "Accuracy: 0.8837\n",
            "Training with n_estimators=200, max_depth=3, learning_rate=0.01, subsample=0.7, colsample_bytree=0.7\n",
            "Accuracy: 0.3856\n",
            "Training with n_estimators=200, max_depth=3, learning_rate=0.01, subsample=0.7, colsample_bytree=1\n",
            "Accuracy: 0.3599\n",
            "Training with n_estimators=200, max_depth=3, learning_rate=0.01, subsample=1, colsample_bytree=0.7\n",
            "Accuracy: 0.3833\n",
            "Training with n_estimators=200, max_depth=3, learning_rate=0.01, subsample=1, colsample_bytree=1\n",
            "Accuracy: 0.3590\n",
            "Training with n_estimators=200, max_depth=3, learning_rate=0.1, subsample=0.7, colsample_bytree=0.7\n",
            "Accuracy: 0.4157\n",
            "Training with n_estimators=200, max_depth=3, learning_rate=0.1, subsample=0.7, colsample_bytree=1\n",
            "Accuracy: 0.4175\n",
            "Training with n_estimators=200, max_depth=3, learning_rate=0.1, subsample=1, colsample_bytree=0.7\n",
            "Accuracy: 0.4147\n",
            "Training with n_estimators=200, max_depth=3, learning_rate=0.1, subsample=1, colsample_bytree=1\n",
            "Accuracy: 0.4176\n",
            "Training with n_estimators=200, max_depth=3, learning_rate=0.3, subsample=0.7, colsample_bytree=0.7\n",
            "Accuracy: 0.4401\n",
            "Training with n_estimators=200, max_depth=3, learning_rate=0.3, subsample=0.7, colsample_bytree=1\n",
            "Accuracy: 0.4436\n",
            "Training with n_estimators=200, max_depth=3, learning_rate=0.3, subsample=1, colsample_bytree=0.7\n",
            "Accuracy: 0.4360\n",
            "Training with n_estimators=200, max_depth=3, learning_rate=0.3, subsample=1, colsample_bytree=1\n",
            "Accuracy: 0.4360\n",
            "Training with n_estimators=200, max_depth=6, learning_rate=0.01, subsample=0.7, colsample_bytree=0.7\n",
            "Accuracy: 0.4387\n",
            "Training with n_estimators=200, max_depth=6, learning_rate=0.01, subsample=0.7, colsample_bytree=1\n",
            "Accuracy: 0.4225\n",
            "Training with n_estimators=200, max_depth=6, learning_rate=0.01, subsample=1, colsample_bytree=0.7\n",
            "Accuracy: 0.4382\n",
            "Training with n_estimators=200, max_depth=6, learning_rate=0.01, subsample=1, colsample_bytree=1\n",
            "Accuracy: 0.4214\n",
            "Training with n_estimators=200, max_depth=6, learning_rate=0.1, subsample=0.7, colsample_bytree=0.7\n",
            "Accuracy: 0.4882\n",
            "Training with n_estimators=200, max_depth=6, learning_rate=0.1, subsample=0.7, colsample_bytree=1\n",
            "Accuracy: 0.5001\n",
            "Training with n_estimators=200, max_depth=6, learning_rate=0.1, subsample=1, colsample_bytree=0.7\n",
            "Accuracy: 0.4817\n",
            "Training with n_estimators=200, max_depth=6, learning_rate=0.1, subsample=1, colsample_bytree=1\n",
            "Accuracy: 0.4811\n",
            "Training with n_estimators=200, max_depth=6, learning_rate=0.3, subsample=0.7, colsample_bytree=0.7\n",
            "Accuracy: 0.5635\n",
            "Training with n_estimators=200, max_depth=6, learning_rate=0.3, subsample=0.7, colsample_bytree=1\n",
            "Accuracy: 0.5934\n",
            "Training with n_estimators=200, max_depth=6, learning_rate=0.3, subsample=1, colsample_bytree=0.7\n",
            "Accuracy: 0.5550\n",
            "Training with n_estimators=200, max_depth=6, learning_rate=0.3, subsample=1, colsample_bytree=1\n",
            "Accuracy: 0.5859\n",
            "Training with n_estimators=200, max_depth=10, learning_rate=0.01, subsample=0.7, colsample_bytree=0.7\n",
            "Accuracy: 0.5582\n",
            "Training with n_estimators=200, max_depth=10, learning_rate=0.01, subsample=0.7, colsample_bytree=1\n",
            "Accuracy: 0.5436\n",
            "Training with n_estimators=200, max_depth=10, learning_rate=0.01, subsample=1, colsample_bytree=0.7\n",
            "Accuracy: 0.5583\n",
            "Training with n_estimators=200, max_depth=10, learning_rate=0.01, subsample=1, colsample_bytree=1\n",
            "Accuracy: 0.5259\n",
            "Training with n_estimators=200, max_depth=10, learning_rate=0.1, subsample=0.7, colsample_bytree=0.7\n",
            "Accuracy: 0.7048\n",
            "Training with n_estimators=200, max_depth=10, learning_rate=0.1, subsample=0.7, colsample_bytree=1\n",
            "Accuracy: 0.8229\n",
            "Training with n_estimators=200, max_depth=10, learning_rate=0.1, subsample=1, colsample_bytree=0.7\n",
            "Accuracy: 0.7022\n",
            "Training with n_estimators=200, max_depth=10, learning_rate=0.1, subsample=1, colsample_bytree=1\n",
            "Accuracy: 0.7676\n",
            "Training with n_estimators=200, max_depth=10, learning_rate=0.3, subsample=0.7, colsample_bytree=0.7\n",
            "Accuracy: 0.8308\n",
            "Training with n_estimators=200, max_depth=10, learning_rate=0.3, subsample=0.7, colsample_bytree=1\n",
            "Accuracy: 0.9610\n",
            "Training with n_estimators=200, max_depth=10, learning_rate=0.3, subsample=1, colsample_bytree=0.7\n",
            "Accuracy: 0.8282\n",
            "Training with n_estimators=200, max_depth=10, learning_rate=0.3, subsample=1, colsample_bytree=1\n",
            "Accuracy: 0.9596\n",
            "Best Parameters Found:\n",
            "{'n_estimators': 200, 'max_depth': 10, 'learning_rate': 0.3, 'subsample': 0.7, 'colsample_bytree': 1}\n"
          ]
        }
      ]
    },
    {
      "cell_type": "code",
      "source": [
        "print(df.columns)  # Check column names\n"
      ],
      "metadata": {
        "colab": {
          "base_uri": "https://localhost:8080/"
        },
        "id": "l_AQQP3-8y0b",
        "outputId": "435d14c1-941d-40e5-e13f-9495b5c71fc6"
      },
      "execution_count": 28,
      "outputs": [
        {
          "output_type": "stream",
          "name": "stdout",
          "text": [
            "Index(['Gender', 'Hair Type', 'Face Shape', 'Look Type', 'Occasion',\n",
            "       'Haircut ID'],\n",
            "      dtype='object')\n"
          ]
        }
      ]
    },
    {
      "cell_type": "code",
      "source": [
        "best_params = {\n",
        "    'n_estimators': 200,\n",
        "    'max_depth': 10,\n",
        "    'learning_rate': 0.3,\n",
        "    'subsample': 0.7,\n",
        "    'colsample_bytree': 1\n",
        "}"
      ],
      "metadata": {
        "id": "BGieFGTo7ca4"
      },
      "execution_count": 29,
      "outputs": []
    },
    {
      "cell_type": "code",
      "source": [
        "# Train the best model using the best parameters found\n",
        "best_model = xgb.XGBClassifier(**best_params, random_state=42)\n",
        "best_model.fit(X_train, y_train)\n",
        "\n",
        "# Predict the results\n",
        "y_pred = best_model.predict(X_test)\n",
        "\n",
        "# Model Evaluation\n",
        "accuracy = accuracy_score(y_test, y_pred)\n",
        "print(f\"Accuracy: {accuracy:.4f}\")\n",
        "print(\"Classification Report:\")\n",
        "print(classification_report(y_test, y_pred))\n",
        "\n",
        "# Confusion Matrix\n",
        "cm = confusion_matrix(y_test, y_pred)\n",
        "\n",
        "plt.figure(figsize=(10, 7))\n",
        "sns.heatmap(cm, annot=True, fmt='d', cmap='Blues', xticklabels=best_params['n_estimators'], yticklabels=best_params['n_estimators'])\n",
        "plt.xlabel('Predicted')\n",
        "plt.ylabel('Actual')\n",
        "plt.title('Confusion Matrix')\n",
        "plt.show()\n"
      ],
      "metadata": {
        "colab": {
          "base_uri": "https://localhost:8080/",
          "height": 1000
        },
        "id": "UlyPQxFxoJ1m",
        "outputId": "d5aaf2de-1147-4a29-c0b8-82777e2739e5"
      },
      "execution_count": 30,
      "outputs": [
        {
          "output_type": "stream",
          "name": "stdout",
          "text": [
            "Accuracy: 1.0000\n",
            "Classification Report:\n",
            "              precision    recall  f1-score   support\n",
            "\n",
            "           0       1.00      1.00      1.00      1630\n",
            "           1       1.00      1.00      1.00      1663\n",
            "           2       1.00      1.00      1.00      1627\n",
            "           3       1.00      1.00      1.00      1679\n",
            "           4       1.00      1.00      1.00      1696\n",
            "           5       1.00      1.00      1.00      1752\n",
            "           6       1.00      1.00      1.00      1659\n",
            "           7       1.00      1.00      1.00      1622\n",
            "           8       1.00      1.00      1.00      1649\n",
            "           9       1.00      1.00      1.00      1675\n",
            "          10       1.00      1.00      1.00      1673\n",
            "          11       1.00      1.00      1.00      1727\n",
            "          12       1.00      1.00      1.00      1614\n",
            "\n",
            "    accuracy                           1.00     21666\n",
            "   macro avg       1.00      1.00      1.00     21666\n",
            "weighted avg       1.00      1.00      1.00     21666\n",
            "\n"
          ]
        },
        {
          "output_type": "display_data",
          "data": {
            "text/plain": [
              "<Figure size 1000x700 with 2 Axes>"
            ],
            "image/png": "[encoded data removed]"
          },
          "metadata": {}
        }
      ]
    },
    {
      "cell_type": "code",
      "source": [
        "# Save the model\n",
        "model_path = \"/content/drive/MyDrive/BeautiCareAi/haircut_recommendation/haircut_recommendation_model.pkl\"\n",
        "joblib.dump(best_model, model_path)\n",
        "print(f\"Model saved successfully at {model_path}\")\n",
        "\n",
        "# Save the label encoders\n",
        "label_encoders_path = \"/content/drive/MyDrive/BeautiCareAi/haircut_recommendation/label_encoders.pkl\"\n",
        "joblib.dump(label_encoders, label_encoders_path)\n",
        "print(f\"Label encoders saved successfully at {label_encoders_path}\")\n"
      ],
      "metadata": {
        "colab": {
          "base_uri": "https://localhost:8080/"
        },
        "id": "OI17RS3Vqnpf",
        "outputId": "743de0b5-ce83-4595-d674-0d448371439d"
      },
      "execution_count": 32,
      "outputs": [
        {
          "output_type": "stream",
          "name": "stdout",
          "text": [
            "Model saved successfully at /content/drive/MyDrive/BeautiCareAi/haircut_recommendation/haircut_recommendation_model.pkl\n",
            "Label encoders saved successfully at /content/drive/MyDrive/BeautiCareAi/haircut_recommendation/label_encoders.pkl\n"
          ]
        }
      ]
    },
    {
      "cell_type": "code",
      "source": [
        "# Load the model\n",
        "loaded_model = joblib.load(\"/content/drive/MyDrive/BeautiCareAi/haircut_recommendation/haircut_recommendation_model.pkl\")\n",
        "\n",
        "# Load the label encoders\n",
        "loaded_label_encoders = joblib.load(\"/content/drive/MyDrive/BeautiCareAi/haircut_recommendation/label_encoders.pkl\")\n",
        "\n",
        "\n",
        "print(\"Model, label encoders, and scaler loaded successfully!\")\n"
      ],
      "metadata": {
        "colab": {
          "base_uri": "https://localhost:8080/"
        },
        "id": "38hbA8EMrNzf",
        "outputId": "893faba6-f1cb-4a77-fa89-cf16415f575c"
      },
      "execution_count": 33,
      "outputs": [
        {
          "output_type": "stream",
          "name": "stdout",
          "text": [
            "Model, label encoders, and scaler loaded successfully!\n"
          ]
        }
      ]
    },
    {
      "cell_type": "code",
      "source": [
        "# Sample new data for prediction (replace with actual data)\n",
        "new_data = pd.DataFrame({\n",
        "    'Gender': ['Female', 'Male', 'Female'],\n",
        "    'Hair Type': ['Straight', 'Straight', 'Straight'],\n",
        "    'Face Shape': ['Round', 'Round', 'Round'],\n",
        "    'Look Type': ['Natural', 'Natural', 'Natural'],\n",
        "    'Occasion': ['Casual', 'Formal', 'Sport']\n",
        "})\n",
        "\n",
        "# Apply encoding for categorical features using the loaded label encoders\n",
        "for column in new_data.columns:\n",
        "    if column in loaded_label_encoders:\n",
        "        le = loaded_label_encoders[column]\n",
        "\n",
        "        # Handle unseen categories by replacing them with the most frequent class\n",
        "        new_data[column] = new_data[column].apply(lambda x: x if x in le.classes_ else le.classes_[0])\n",
        "\n",
        "        # Transform using saved encoder\n",
        "        new_data[column] = le.transform(new_data[column])\n",
        "\n",
        "# Ensure all columns are of type int, float, or bool\n",
        "new_data = new_data.astype({col: 'int' for col in new_data.select_dtypes(include=['object']).columns})\n",
        "\n",
        "# Predict haircut recommendations using the trained model\n",
        "try:\n",
        "    predictions = loaded_model.predict(new_data)\n",
        "    print(\"Predictions made successfully!\")\n",
        "except ValueError as e:\n",
        "    print(f\"Error during prediction: {e}\")\n",
        "\n",
        "# Define haircut mapping\n",
        "haircuts = {\n",
        "    0: (\"Middle Part\", \"A neat middle part style\"),\n",
        "    1: (\"Modern Short\", \"A short, modern style for women\"),\n",
        "    2: (\"Modern Side Part\", \"A trendy side-parted look\"),\n",
        "    3: (\"Side Part\", \"Classic side part for a simple style\"),\n",
        "    4: (\"Classic Short\", \"A timeless short haircut for women\"),\n",
        "    5: (\"Formal Bang\", \"Bangs with a formal look\"),\n",
        "    6: (\"Messy Waves\", \"Wavy hair with a messy and casual vibe\"),\n",
        "    7: (\"Crew Cut\", \"A short and clean crew cut Male\"),\n",
        "    8: (\"Curly Long\", \"Long curls for a bold look Male\"),\n",
        "    9: (\"Curly Short\", \"Short curly style for men Male\"),\n",
        "    10: (\"Layered Cut\", \"A layered haircut with volume Male\"),\n",
        "    11: (\"Messy Waves\", \"Casual and messy wavy hair Male\"),\n",
        "    12: (\"Shaggy Cut\", \"A shaggy, laid-back style Male\"),\n",
        "    13: (\"Side Part\", \"A classic side part with a neat finish Male\")\n",
        "}\n",
        "\n",
        "# Display predictions with descriptions\n",
        "if 'predictions' in locals():\n",
        "    for i, haircut_id in enumerate(predictions):\n",
        "        name, description = haircuts.get(haircut_id, (\"Unknown\", \"No description available\"))\n",
        "        print(f\"Prediction {i+1}: {name} - {description}\")"
      ],
      "metadata": {
        "colab": {
          "base_uri": "https://localhost:8080/"
        },
        "id": "0QYSPHOZrhoS",
        "outputId": "b3927498-8e6e-4d3b-d6f6-91dd5f54af0e"
      },
      "execution_count": 39,
      "outputs": [
        {
          "output_type": "stream",
          "name": "stdout",
          "text": [
            "Predictions made successfully!\n",
            "Prediction 1: Messy Waves - Wavy hair with a messy and casual vibe\n",
            "Prediction 2: Curly Short - Short curly style for men Male\n",
            "Prediction 3: Messy Waves - Wavy hair with a messy and casual vibe\n"
          ]
        }
      ]
    }
  ]
}